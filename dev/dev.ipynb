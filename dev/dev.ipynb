{
 "cells": [
  {
   "cell_type": "code",
   "id": "initial_id",
   "metadata": {
    "collapsed": true,
    "ExecuteTime": {
     "end_time": "2024-08-25T00:51:46.187297Z",
     "start_time": "2024-08-25T00:51:46.185192Z"
    }
   },
   "source": "print(1)",
   "outputs": [
    {
     "name": "stdout",
     "output_type": "stream",
     "text": [
      "1\n"
     ]
    }
   ],
   "execution_count": 1
  },
  {
   "metadata": {},
   "cell_type": "markdown",
   "source": "",
   "id": "fc2345cc1d0d4b45"
  },
  {
   "metadata": {
    "ExecuteTime": {
     "end_time": "2024-08-25T00:52:51.078583Z",
     "start_time": "2024-08-25T00:52:51.076010Z"
    }
   },
   "cell_type": "code",
   "source": [
    "from pydantic_settings import BaseSettings\n",
    "class SomeSettings(BaseSettings):\n",
    "    a: int = 1\n",
    "    b: str = \"b\"\n",
    "    c: float = 3.14\n",
    "    \n",
    "    class Config:\n",
    "        extra = \"ignore\""
   ],
   "id": "7976f8ffb41910f1",
   "outputs": [],
   "execution_count": 4
  },
  {
   "metadata": {
    "ExecuteTime": {
     "end_time": "2024-08-25T00:52:51.328063Z",
     "start_time": "2024-08-25T00:52:51.325987Z"
    }
   },
   "cell_type": "code",
   "source": "settings = SomeSettings(d=1)",
   "id": "bf3451b89f714152",
   "outputs": [],
   "execution_count": 5
  },
  {
   "metadata": {
    "ExecuteTime": {
     "end_time": "2024-08-25T00:55:08.507837Z",
     "start_time": "2024-08-25T00:55:08.505224Z"
    }
   },
   "cell_type": "code",
   "source": [
    "from typing import List\n",
    "class PluginsSettings(BaseSettings):\n",
    "    some_plugins: List[str] = []\n",
    "    class Config:\n",
    "        extra = \"ignore\""
   ],
   "id": "a8924ae558bf8528",
   "outputs": [],
   "execution_count": 8
  },
  {
   "metadata": {
    "ExecuteTime": {
     "end_time": "2024-08-25T00:55:09.123690Z",
     "start_time": "2024-08-25T00:55:09.114717Z"
    }
   },
   "cell_type": "code",
   "source": [
    "from dotenv import load_dotenv\n",
    "load_dotenv()\n",
    "ps = PluginsSettings()\n",
    "ps"
   ],
   "id": "a49ced6fc2e1ad59",
   "outputs": [
    {
     "data": {
      "text/plain": [
       "PluginsSettings(some_plugins=['plugin1', 'plugin2'])"
      ]
     },
     "execution_count": 9,
     "metadata": {},
     "output_type": "execute_result"
    }
   ],
   "execution_count": 9
  },
  {
   "metadata": {
    "ExecuteTime": {
     "end_time": "2024-08-25T00:55:17.270167Z",
     "start_time": "2024-08-25T00:55:17.267680Z"
    }
   },
   "cell_type": "code",
   "source": "ps.some_plugins[0]",
   "id": "6bc58064e5a245d7",
   "outputs": [
    {
     "data": {
      "text/plain": [
       "'plugin1'"
      ]
     },
     "execution_count": 11,
     "metadata": {},
     "output_type": "execute_result"
    }
   ],
   "execution_count": 11
  },
  {
   "metadata": {
    "ExecuteTime": {
     "end_time": "2024-08-25T01:24:58.834763Z",
     "start_time": "2024-08-25T01:24:58.829951Z"
    }
   },
   "cell_type": "code",
   "source": "ps.model_dump()",
   "id": "e7dbdc2fa06b24aa",
   "outputs": [
    {
     "data": {
      "text/plain": [
       "{'some_plugins': ['plugin1', 'plugin2']}"
      ]
     },
     "execution_count": 27,
     "metadata": {},
     "output_type": "execute_result"
    }
   ],
   "execution_count": 27
  },
  {
   "metadata": {
    "ExecuteTime": {
     "end_time": "2024-08-25T01:16:00.902537Z",
     "start_time": "2024-08-25T01:16:00.899228Z"
    }
   },
   "cell_type": "code",
   "source": "",
   "id": "9f1be6905231e368",
   "outputs": [],
   "execution_count": 15
  },
  {
   "metadata": {
    "ExecuteTime": {
     "end_time": "2024-08-25T01:16:02.046573Z",
     "start_time": "2024-08-25T01:16:02.044309Z"
    }
   },
   "cell_type": "code",
   "source": [
    "\n",
    "app = App()\n",
    "p1 = app.plugins[\"p1\"]\n",
    "p2 = app.plugins[\"p2\"]"
   ],
   "id": "d66a7b385a0e486",
   "outputs": [],
   "execution_count": 16
  },
  {
   "metadata": {
    "ExecuteTime": {
     "end_time": "2024-08-25T01:16:07.047034Z",
     "start_time": "2024-08-25T01:16:07.044218Z"
    }
   },
   "cell_type": "code",
   "source": "p1.a",
   "id": "c6e8e2dae7f18094",
   "outputs": [
    {
     "data": {
      "text/plain": [
       "1"
      ]
     },
     "execution_count": 18,
     "metadata": {},
     "output_type": "execute_result"
    }
   ],
   "execution_count": 18
  },
  {
   "metadata": {
    "ExecuteTime": {
     "end_time": "2024-08-25T01:16:12.512615Z",
     "start_time": "2024-08-25T01:16:12.510438Z"
    }
   },
   "cell_type": "code",
   "source": "app.a = 100",
   "id": "bffae2c183bad69a",
   "outputs": [],
   "execution_count": 19
  },
  {
   "metadata": {
    "ExecuteTime": {
     "end_time": "2024-08-25T01:16:15.271096Z",
     "start_time": "2024-08-25T01:16:15.268305Z"
    }
   },
   "cell_type": "code",
   "source": "p1.a",
   "id": "c0444e30e3df1e9c",
   "outputs": [
    {
     "data": {
      "text/plain": [
       "100"
      ]
     },
     "execution_count": 20,
     "metadata": {},
     "output_type": "execute_result"
    }
   ],
   "execution_count": 20
  },
  {
   "metadata": {
    "ExecuteTime": {
     "end_time": "2024-08-25T01:16:24.994741Z",
     "start_time": "2024-08-25T01:16:24.992847Z"
    }
   },
   "cell_type": "code",
   "source": "app.x = 'a'",
   "id": "5101bab0b89de4d9",
   "outputs": [],
   "execution_count": 21
  },
  {
   "metadata": {
    "ExecuteTime": {
     "end_time": "2024-08-25T01:16:27.828037Z",
     "start_time": "2024-08-25T01:16:27.825562Z"
    }
   },
   "cell_type": "code",
   "source": "p2.x",
   "id": "ba8bb9c32e70dde1",
   "outputs": [
    {
     "data": {
      "text/plain": [
       "'a'"
      ]
     },
     "execution_count": 22,
     "metadata": {},
     "output_type": "execute_result"
    }
   ],
   "execution_count": 22
  },
  {
   "metadata": {
    "ExecuteTime": {
     "end_time": "2024-08-25T01:16:37.210842Z",
     "start_time": "2024-08-25T01:16:37.208195Z"
    }
   },
   "cell_type": "code",
   "source": "app.b",
   "id": "f70a366511a47723",
   "outputs": [
    {
     "data": {
      "text/plain": [
       "2"
      ]
     },
     "execution_count": 23,
     "metadata": {},
     "output_type": "execute_result"
    }
   ],
   "execution_count": 23
  },
  {
   "metadata": {
    "ExecuteTime": {
     "end_time": "2024-08-25T01:16:46.801579Z",
     "start_time": "2024-08-25T01:16:46.799243Z"
    }
   },
   "cell_type": "code",
   "source": "app.plugins[\"p1\"].b",
   "id": "76ab755091a057b5",
   "outputs": [
    {
     "data": {
      "text/plain": [
       "2"
      ]
     },
     "execution_count": 24,
     "metadata": {},
     "output_type": "execute_result"
    }
   ],
   "execution_count": 24
  },
  {
   "metadata": {
    "ExecuteTime": {
     "end_time": "2024-08-25T01:16:54.035455Z",
     "start_time": "2024-08-25T01:16:54.033884Z"
    }
   },
   "cell_type": "code",
   "source": "app.plugins = 1",
   "id": "f81020453cd11111",
   "outputs": [],
   "execution_count": 25
  },
  {
   "metadata": {
    "ExecuteTime": {
     "end_time": "2024-08-25T01:16:57.321750Z",
     "start_time": "2024-08-25T01:16:57.318849Z"
    }
   },
   "cell_type": "code",
   "source": "app.plugins",
   "id": "1504859a16c6dc7e",
   "outputs": [
    {
     "data": {
      "text/plain": [
       "1"
      ]
     },
     "execution_count": 26,
     "metadata": {},
     "output_type": "execute_result"
    }
   ],
   "execution_count": 26
  },
  {
   "metadata": {},
   "cell_type": "code",
   "outputs": [],
   "execution_count": null,
   "source": "",
   "id": "8244d3c3ed6de5fd"
  }
 ],
 "metadata": {
  "kernelspec": {
   "display_name": "Python 3",
   "language": "python",
   "name": "python3"
  },
  "language_info": {
   "codemirror_mode": {
    "name": "ipython",
    "version": 2
   },
   "file_extension": ".py",
   "mimetype": "text/x-python",
   "name": "python",
   "nbconvert_exporter": "python",
   "pygments_lexer": "ipython2",
   "version": "2.7.6"
  }
 },
 "nbformat": 4,
 "nbformat_minor": 5
}
